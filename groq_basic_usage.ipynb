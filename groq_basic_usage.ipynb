{
 "cells": [
  {
   "cell_type": "code",
   "execution_count": 1,
   "id": "20eb5ed7-ea7f-4bd6-8dbf-719edbf10573",
   "metadata": {},
   "outputs": [],
   "source": [
    "from groq import Groq\n",
    "import os"
   ]
  },
  {
   "cell_type": "code",
   "execution_count": 2,
   "id": "e1a0de36-5cde-423b-adae-e9733f3d4061",
   "metadata": {},
   "outputs": [],
   "source": [
    "client = Groq(api_key=\"\")"
   ]
  },
  {
   "cell_type": "code",
   "execution_count": 3,
   "id": "0ae4b52f-eb5a-49e1-95cf-9e49def5257b",
   "metadata": {},
   "outputs": [
    {
     "name": "stdout",
     "output_type": "stream",
     "text": [
      "Artificial Intelligence (AI) models have become increasingly important in many areas of life, including business, healthcare, education, and entertainment. The importance of AI models can be summarized as follows:\n",
      "\n",
      "1. **Automation of Repetitive Tasks**: AI models can automate repetitive and time-consuming tasks, freeing up human resources to focus on more strategic and creative work.\n",
      "2. **Improving Efficiency**: AI models can process large amounts of data quickly and accurately, improving the efficiency of business processes and reducing the likelihood of human error.\n",
      "3. **Personalization**: AI models can provide personalized experiences and recommendations to customers, improving customer satisfaction and loyalty.\n",
      "4. **Decision Making**: AI models can analyze large datasets and provide insights to improve decision-making, reducing the risk of human bias and errors.\n",
      "5. **Predictive Analytics**: AI models can predict future outcomes and events, allowing businesses to make proactive decisions and minimize risks.\n",
      "6. **Customer Service**: AI-powered chatbots and virtual assistants can provide 24/7 customer support, improving customer satisfaction and reducing the load on human customer support agents.\n",
      "7. **Medical Diagnosis**: AI models can analyze medical images and patient data to improve early disease detection and treatment outcomes.\n",
      "8. **Enhanced Security**: AI-powered intrusion detection systems can identify and prevent security threats more effectively than traditional security measures.\n",
      "9. **Optimization**: AI models can optimize processes, supply chains, and resource allocation, reducing waste and improving overall efficiency.\n",
      "10. **Research and Development**: AI models can accelerate scientific discovery and research by analyzing vast amounts of data and identifying patterns and relationships.\n",
      "11. **Improved Accessibility**: AI-powered tools can provide support for people with disabilities, such as language translation, speech recognition, and image recognition.\n",
      "12. **Job Creation**: While AI may displace some jobs, it will also create new ones, such as AI developers, data scientists, and AI researchers.\n",
      "13. **Compliance**: AI models can ensure compliance with regulations and laws by analyzing large datasets and identifying potential violations.\n",
      "14. **Time Savings**: AI models can automate tasks that would otherwise require human intervention, saving time and increasing productivity.\n",
      "15. **Improved Accuracy**: AI models can reduce errors and inaccuracies in decision-making, reducing the risk of costly mistakes.\n",
      "16. **Enhanced Creativity**: AI models can generate new ideas, products, and services, helping to drive innovation and entrepreneurship.\n",
      "17. **Machinery Maintenance**: AI models can predict and prevent equipment failures, reducing downtime and increasing overall efficiency.\n",
      "18. **Environmental Sustainability**: AI models can optimize energy consumption, reduce waste, and improve environmental sustainability.\n",
      "19. **Improved Education**: AI-powered education systems can personalize learning experiences, improve academic outcomes, and reduce teacher workload.\n",
      "20. **Enhanced Entertainment**: AI models can create personalized and immersive entertainment experiences, such as movies and video games.\n",
      "\n",
      "In summary, AI models have the potential to transform many aspects of our lives, from work and education to healthcare and entertainment. As AI continues to evolve, it is likely to have an increasing impact on various industries and aspects of society.\n"
     ]
    }
   ],
   "source": [
    "chat_completion = client.chat.completions.create(messages=[\n",
    "                                             { \"role\" : \"user\",\n",
    "                                               \"content\" : \"Explain the importance of Artificial intelligence models\"},\n",
    "                                             ],\n",
    "                                                model=\"llama3-8b-8192\")\n",
    "print(chat_completion.choices[0].message.content)"
   ]
  },
  {
   "cell_type": "code",
   "execution_count": 4,
   "id": "38fdb36b-1516-4c01-99c4-2ec66a6aa3bb",
   "metadata": {},
   "outputs": [
    {
     "name": "stdout",
     "output_type": "stream",
     "text": [
      "So, you're asking me what the score of the Warriors game was? Well, according to the score I got from the get_game_score function, the Golden State Warriors, who were the away team, ended up with a score of 128 points.\n"
     ]
    }
   ],
   "source": [
    "from groq import Groq\n",
    "import os\n",
    "import json\n",
    "\n",
    "client = Groq(api_key=\"\")\n",
    "MODEL = 'llama3-8b-8192'\n",
    "\n",
    "\n",
    "# Example dummy function hard coded to return the score of an NBA game\n",
    "def get_game_score(team_name):\n",
    "    \"\"\"Get the current score for a given NBA game\"\"\"\n",
    "    if \"warriors\" in team_name.lower():\n",
    "        return json.dumps({\"game_id\": \"401585601\", \"status\": 'Final', \"home_team\": \"Los Angeles Lakers\", \"home_team_score\": 121, \"away_team\": \"Golden State Warriors\", \"away_team_score\": 128})\n",
    "    elif \"lakers\" in team_name.lower():\n",
    "        return json.dumps({\"game_id\": \"401585601\", \"status\": 'Final', \"home_team\": \"Los Angeles Lakers\", \"home_team_score\": 121, \"away_team\": \"Golden State Warriors\", \"away_team_score\": 128})\n",
    "    elif \"nuggets\" in team_name.lower():\n",
    "        return json.dumps({\"game_id\": \"401585577\", \"status\": 'Final', \"home_team\": \"Miami Heat\", \"home_team_score\": 88, \"away_team\": \"Denver Nuggets\", \"away_team_score\": 100})\n",
    "    elif \"heat\" in team_name.lower():\n",
    "        return json.dumps({\"game_id\": \"401585577\", \"status\": 'Final', \"home_team\": \"Miami Heat\", \"home_team_score\": 88, \"away_team\": \"Denver Nuggets\", \"away_team_score\": 100})\n",
    "    else:\n",
    "        return json.dumps({\"team_name\": team_name, \"score\": \"unknown\"})\n",
    "\n",
    "def run_conversation(user_prompt):\n",
    "    # Step 1: send the conversation and available functions to the model\n",
    "    messages=[\n",
    "        {\n",
    "            \"role\": \"system\",\n",
    "            \"content\": \"You are a function calling LLM that uses the data extracted from the get_game_score function to answer questions around NBA game scores. Include the team and their opponent in your response.\"\n",
    "        },\n",
    "        {\n",
    "            \"role\": \"user\",\n",
    "            \"content\": user_prompt,\n",
    "        }\n",
    "    ]\n",
    "    tools = [\n",
    "        {\n",
    "            \"type\": \"function\",\n",
    "            \"function\": {\n",
    "                \"name\": \"get_game_score\",\n",
    "                \"description\": \"Get the score for a given NBA game\",\n",
    "                \"parameters\": {\n",
    "                    \"type\": \"object\",\n",
    "                    \"properties\": {\n",
    "                        \"team_name\": {\n",
    "                            \"type\": \"string\",\n",
    "                            \"description\": \"The name of the NBA team (e.g. 'Golden State Warriors')\",\n",
    "                        }\n",
    "                    },\n",
    "                    \"required\": [\"team_name\"],\n",
    "                },\n",
    "            },\n",
    "        }\n",
    "    ]\n",
    "    response = client.chat.completions.create(\n",
    "        model=MODEL,\n",
    "        messages=messages,\n",
    "        tools=tools,\n",
    "        tool_choice=\"auto\",  \n",
    "        max_tokens=4096\n",
    "    )\n",
    "\n",
    "    response_message = response.choices[0].message\n",
    "    tool_calls = response_message.tool_calls\n",
    "    # Step 2: check if the model wanted to call a function\n",
    "    if tool_calls:\n",
    "        # Step 3: call the function\n",
    "        # Note: the JSON response may not always be valid; be sure to handle errors\n",
    "        available_functions = {\n",
    "            \"get_game_score\": get_game_score,\n",
    "        }  # only one function in this example, but you can have multiple\n",
    "        messages.append(response_message)  # extend conversation with assistant's reply\n",
    "        # Step 4: send the info for each function call and function response to the model\n",
    "        for tool_call in tool_calls:\n",
    "            function_name = tool_call.function.name\n",
    "            function_to_call = available_functions[function_name]\n",
    "            function_args = json.loads(tool_call.function.arguments)\n",
    "            function_response = function_to_call(\n",
    "                team_name=function_args.get(\"team_name\")\n",
    "            )\n",
    "            messages.append(\n",
    "                {\n",
    "                    \"tool_call_id\": tool_call.id,\n",
    "                    \"role\": \"tool\",\n",
    "                    \"name\": function_name,\n",
    "                    \"content\": function_response,\n",
    "                }\n",
    "            )  # extend conversation with function response\n",
    "        second_response = client.chat.completions.create(\n",
    "            model=MODEL,\n",
    "            messages=messages\n",
    "        )  # get a new response from the model where it can see the function response\n",
    "        return second_response.choices[0].message.content\n",
    "    \n",
    "user_prompt = \"What was the score of the Warriors game?\"\n",
    "print(run_conversation(user_prompt))"
   ]
  }
 ],
 "metadata": {
  "kernelspec": {
   "display_name": "Python 3 (ipykernel)",
   "language": "python",
   "name": "python3"
  },
  "language_info": {
   "codemirror_mode": {
    "name": "ipython",
    "version": 3
   },
   "file_extension": ".py",
   "mimetype": "text/x-python",
   "name": "python",
   "nbconvert_exporter": "python",
   "pygments_lexer": "ipython3",
   "version": "3.11.7"
  }
 },
 "nbformat": 4,
 "nbformat_minor": 5
}
